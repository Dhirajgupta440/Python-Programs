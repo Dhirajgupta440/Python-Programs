{
 "cells": [
  {
   "cell_type": "code",
   "execution_count": 65,
   "metadata": {},
   "outputs": [
    {
     "name": "stdout",
     "output_type": "stream",
     "text": [
      "[ 3  7 11 15 19]\n"
     ]
    }
   ],
   "source": [
    "#element wise addition\n",
    "import numpy as np\n",
    "arr1=np.array([1,3,5,7,9])\n",
    "arr2=np.array([2,4,6,8,10])\n",
    "addition=np.add(arr1,arr2)\n",
    "print(addition)"
   ]
  },
  {
   "cell_type": "code",
   "execution_count": 66,
   "metadata": {},
   "outputs": [
    {
     "name": "stdout",
     "output_type": "stream",
     "text": [
      "[ 2 12 30 56 90]\n"
     ]
    }
   ],
   "source": [
    "#element wise multiplication\n",
    "import numpy as np\n",
    "arr1=np.array([1,3,5,7,9])\n",
    "arr2=np.array([2,4,6,8,10])\n",
    "multiplication=np.multiply(arr1,arr2)\n",
    "print(multiplication)"
   ]
  },
  {
   "cell_type": "code",
   "execution_count": 67,
   "metadata": {},
   "outputs": [
    {
     "name": "stdout",
     "output_type": "stream",
     "text": [
      "[ 0.84147098  0.14112001 -0.95892427  0.6569866   0.41211849]\n"
     ]
    }
   ],
   "source": [
    "#element wise sin\n",
    "import numpy as np\n",
    "arr1=np.array([1,3,5,7,9])\n",
    "arr2=np.array([2,4,6,8,10])\n",
    "sine_value=np.sin(arr1)\n",
    "print(sine_value)"
   ]
  },
  {
   "cell_type": "code",
   "execution_count": 68,
   "metadata": {},
   "outputs": [
    {
     "name": "stdout",
     "output_type": "stream",
     "text": [
      "30\n"
     ]
    }
   ],
   "source": [
    "#sum of all elements\n",
    "import numpy as np\n",
    "arr1=np.array([1,3,5,7,9])\n",
    "arr2=np.array([2,4,6,8,10])\n",
    "sumation=np.sum(arr2)\n",
    "print(sumation)"
   ]
  },
  {
   "cell_type": "code",
   "execution_count": 69,
   "metadata": {},
   "outputs": [
    {
     "name": "stdout",
     "output_type": "stream",
     "text": [
      "6.0\n"
     ]
    }
   ],
   "source": [
    "#sum of all elements\n",
    "import numpy as np\n",
    "arr1=np.array([1,3,5,7,9])\n",
    "arr2=np.array([2,4,6,8,10])\n",
    "mean_value=np.mean(arr2)\n",
    "print(mean_value)"
   ]
  },
  {
   "cell_type": "code",
   "execution_count": 70,
   "metadata": {},
   "outputs": [
    {
     "name": "stdout",
     "output_type": "stream",
     "text": [
      "2.8284271247461903\n"
     ]
    }
   ],
   "source": [
    "#standard deviation\n",
    "import numpy as np\n",
    "arr1=np.array([1,3,5,7,9])\n",
    "arr2=np.array([2,4,6,8,10])\n",
    "standard_deviation=np.std(arr2)\n",
    "print(standard_deviation)"
   ]
  },
  {
   "cell_type": "code",
   "execution_count": 71,
   "metadata": {},
   "outputs": [
    {
     "name": "stdout",
     "output_type": "stream",
     "text": [
      "[[ 1  3  5]\n",
      " [ 7  9 11]\n",
      " [13 15 17]]\n",
      "[[ 1  7 13]\n",
      " [ 3  9 15]\n",
      " [ 5 11 17]]\n"
     ]
    }
   ],
   "source": [
    "#transpose\n",
    "import numpy as np\n",
    "arr1=np.array([1,3,5,7,9,11,13,15,17])\n",
    "arr2=np.array([2,4,6,8,10,12])\n",
    "A=np.array(arr1).reshape(3,3)\n",
    "print(A)\n",
    "print(A.transpose())"
   ]
  }
 ],
 "metadata": {
  "kernelspec": {
   "display_name": "Python 3",
   "language": "python",
   "name": "python3"
  },
  "language_info": {
   "codemirror_mode": {
    "name": "ipython",
    "version": 3
   },
   "file_extension": ".py",
   "mimetype": "text/x-python",
   "name": "python",
   "nbconvert_exporter": "python",
   "pygments_lexer": "ipython3",
   "version": "3.12.2"
  }
 },
 "nbformat": 4,
 "nbformat_minor": 2
}
