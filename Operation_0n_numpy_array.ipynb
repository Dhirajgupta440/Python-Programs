{
 "cells": [
  {
   "cell_type": "code",
   "execution_count": 124,
   "metadata": {},
   "outputs": [
    {
     "name": "stdout",
     "output_type": "stream",
     "text": [
      "[ 3  7 11 15 19]\n"
     ]
    }
   ],
   "source": [
    "#element wise addition\n",
    "import numpy as np\n",
    "arr1=np.array([1,3,5,7,9])\n",
    "arr2=np.array([2,4,6,8,10])\n",
    "addition=np.add(arr1,arr2)\n",
    "print(addition)"
   ]
  },
  {
   "cell_type": "code",
   "execution_count": 125,
   "metadata": {},
   "outputs": [
    {
     "name": "stdout",
     "output_type": "stream",
     "text": [
      "[ 2 12 30 56 90]\n"
     ]
    }
   ],
   "source": [
    "#element wise multiplication\n",
    "import numpy as np\n",
    "arr1=np.array([1,3,5,7,9])\n",
    "arr2=np.array([2,4,6,8,10])\n",
    "multiplication=np.multiply(arr1,arr2)\n",
    "print(multiplication)"
   ]
  },
  {
   "cell_type": "code",
   "execution_count": 126,
   "metadata": {},
   "outputs": [
    {
     "name": "stdout",
     "output_type": "stream",
     "text": [
      "[ 3  7 11 15 19]\n"
     ]
    }
   ],
   "source": [
    "#element wise addition\n",
    "import numpy as np\n",
    "arr1=np.array([1,3,5,7,9])\n",
    "arr2=np.array([2,4,6,8,10])\n",
    "m=arr1+arr2\n",
    "print(m)"
   ]
  },
  {
   "cell_type": "code",
   "execution_count": 127,
   "metadata": {},
   "outputs": [
    {
     "name": "stdout",
     "output_type": "stream",
     "text": [
      "[-1 -1 -1 -1 -1]\n"
     ]
    }
   ],
   "source": [
    "#subtraction\n",
    "import numpy as np\n",
    "arr1=np.array([1,3,5,7,9])\n",
    "arr2=np.array([2,4,6,8,10])\n",
    "m=arr1-arr2\n",
    "print(m)"
   ]
  },
  {
   "cell_type": "code",
   "execution_count": 128,
   "metadata": {},
   "outputs": [
    {
     "name": "stdout",
     "output_type": "stream",
     "text": [
      "[ 2 12 30 56 90]\n"
     ]
    }
   ],
   "source": [
    "#Multiplication\n",
    "import numpy as np\n",
    "arr1=np.array([1,3,5,7,9])\n",
    "arr2=np.array([2,4,6,8,10])\n",
    "m=arr1*arr2\n",
    "print(m)"
   ]
  },
  {
   "cell_type": "code",
   "execution_count": 129,
   "metadata": {},
   "outputs": [
    {
     "name": "stdout",
     "output_type": "stream",
     "text": [
      "[0.5        0.75       0.83333333 0.875      0.9       ]\n"
     ]
    }
   ],
   "source": [
    "#division\n",
    "import numpy as np\n",
    "arr1=np.array([1,3,5,7,9])\n",
    "arr2=np.array([2,4,6,8,10])\n",
    "m=arr1/arr2\n",
    "print(m)"
   ]
  },
  {
   "cell_type": "code",
   "execution_count": 130,
   "metadata": {},
   "outputs": [
    {
     "name": "stdout",
     "output_type": "stream",
     "text": [
      "[         1         81      15625    5764801 -808182895]\n"
     ]
    }
   ],
   "source": [
    "#Exponentiation\n",
    "import numpy as np\n",
    "arr1=np.array([1,3,5,7,9])\n",
    "arr2=np.array([2,4,6,8,10])\n",
    "m=arr1**arr2\n",
    "print(m)"
   ]
  },
  {
   "cell_type": "code",
   "execution_count": 131,
   "metadata": {},
   "outputs": [
    {
     "name": "stdout",
     "output_type": "stream",
     "text": [
      "[1 3 5 7 9]\n"
     ]
    }
   ],
   "source": [
    "#Modulo\n",
    "import numpy as np\n",
    "arr1=np.array([1,3,5,7,9])\n",
    "arr2=np.array([2,4,6,8,10])\n",
    "m=arr1%arr2\n",
    "print(m)"
   ]
  },
  {
   "cell_type": "code",
   "execution_count": null,
   "metadata": {},
   "outputs": [],
   "source": []
  },
  {
   "cell_type": "code",
   "execution_count": 132,
   "metadata": {},
   "outputs": [
    {
     "name": "stdout",
     "output_type": "stream",
     "text": [
      "[ 3  7 11 15 19]\n"
     ]
    }
   ],
   "source": [
    "#element wise addition\n",
    "import numpy as np\n",
    "arr1=np.array([1,3,5,7,9])\n",
    "arr2=np.array([2,4,6,8,10])\n",
    "m=arr1+arr2\n",
    "print(m)"
   ]
  },
  {
   "cell_type": "code",
   "execution_count": 133,
   "metadata": {},
   "outputs": [
    {
     "name": "stdout",
     "output_type": "stream",
     "text": [
      "[ 0.84147098  0.14112001 -0.95892427  0.6569866   0.41211849]\n"
     ]
    }
   ],
   "source": [
    "#element wise sin\n",
    "import numpy as np\n",
    "arr1=np.array([1,3,5,7,9])\n",
    "arr2=np.array([2,4,6,8,10])\n",
    "sine_value=np.sin(arr1)\n",
    "print(sine_value)"
   ]
  },
  {
   "cell_type": "code",
   "execution_count": 134,
   "metadata": {},
   "outputs": [
    {
     "name": "stdout",
     "output_type": "stream",
     "text": [
      "30\n"
     ]
    }
   ],
   "source": [
    "#sum of all elements\n",
    "import numpy as np\n",
    "arr1=np.array([1,3,5,7,9])\n",
    "arr2=np.array([2,4,6,8,10])\n",
    "sumation=np.sum(arr2)\n",
    "print(sumation)"
   ]
  },
  {
   "cell_type": "code",
   "execution_count": 135,
   "metadata": {},
   "outputs": [
    {
     "name": "stdout",
     "output_type": "stream",
     "text": [
      "6.0\n"
     ]
    }
   ],
   "source": [
    "#mean of all elements\n",
    "import numpy as np\n",
    "arr1=np.array([1,3,5,7,9])\n",
    "arr2=np.array([2,4,6,8,10])\n",
    "mean_value=np.mean(arr2)\n",
    "print(mean_value)"
   ]
  },
  {
   "cell_type": "code",
   "execution_count": 136,
   "metadata": {},
   "outputs": [
    {
     "name": "stdout",
     "output_type": "stream",
     "text": [
      "2.8284271247461903\n"
     ]
    }
   ],
   "source": [
    "#standard deviation\n",
    "import numpy as np\n",
    "arr1=np.array([1,3,5,7,9])\n",
    "arr2=np.array([2,4,6,8,10])\n",
    "standard_deviation=np.std(arr2)\n",
    "print(standard_deviation)"
   ]
  },
  {
   "cell_type": "code",
   "execution_count": 137,
   "metadata": {},
   "outputs": [
    {
     "name": "stdout",
     "output_type": "stream",
     "text": [
      "[[ 1  3  5]\n",
      " [ 7  9 11]\n",
      " [13 15 17]]\n",
      "          \n",
      "[[ 1  7 13]\n",
      " [ 3  9 15]\n",
      " [ 5 11 17]]\n",
      "          \n",
      "[[2 4]\n",
      " [6 8]]\n",
      "           \n",
      "[[2 6]\n",
      " [4 8]]\n"
     ]
    }
   ],
   "source": [
    "#transpose\n",
    "import numpy as np\n",
    "arr1=np.array([1,3,5,7,9,11,13,15,17])\n",
    "arr2=np.array([2,4,6,8])\n",
    "A=np.array(arr1).reshape(3,3)\n",
    "B=np.array(arr2).reshape(2,2)\n",
    "print(A)\n",
    "print(\"          \")\n",
    "print(A.transpose())\n",
    "print(\"          \")\n",
    "print(B)\n",
    "print(\"           \")\n",
    "print(B.transpose())\n"
   ]
  }
 ],
 "metadata": {
  "kernelspec": {
   "display_name": "Python 3",
   "language": "python",
   "name": "python3"
  },
  "language_info": {
   "codemirror_mode": {
    "name": "ipython",
    "version": 3
   },
   "file_extension": ".py",
   "mimetype": "text/x-python",
   "name": "python",
   "nbconvert_exporter": "python",
   "pygments_lexer": "ipython3",
   "version": "3.12.2"
  }
 },
 "nbformat": 4,
 "nbformat_minor": 2
}
