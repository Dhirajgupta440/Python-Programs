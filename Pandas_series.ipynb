{
 "cells": [
  {
   "cell_type": "code",
   "execution_count": 44,
   "metadata": {},
   "outputs": [
    {
     "name": "stdout",
     "output_type": "stream",
     "text": [
      "0     2\n",
      "1     4\n",
      "2     6\n",
      "3     8\n",
      "4    10\n",
      "5    12\n",
      "dtype: int64\n",
      "<class 'pandas.core.series.Series'>\n",
      "10\n"
     ]
    }
   ],
   "source": [
    "#Creating series with list\n",
    "import pandas as pd\n",
    "X=[2,4,6,8,10,12]\n",
    "A=pd.Series(X)\n",
    "print(A)\n",
    "print(type(A))\n",
    "print(A[4])"
   ]
  },
  {
   "cell_type": "code",
   "execution_count": 45,
   "metadata": {},
   "outputs": [
    {
     "name": "stdout",
     "output_type": "stream",
     "text": [
      "a    2\n",
      "b    4\n",
      "c    6\n",
      "d    8\n",
      "dtype: int64\n",
      "<class 'pandas.core.series.Series'>\n",
      "6\n"
     ]
    }
   ],
   "source": [
    "#Series with other indexing\n",
    "import pandas as pd\n",
    "X=[2,4,6,8]\n",
    "A=pd.Series(X,index=['a','b','c','d'])\n",
    "print(A)\n",
    "print(type(A))\n",
    "print(A['c'])"
   ]
  },
  {
   "cell_type": "code",
   "execution_count": 46,
   "metadata": {},
   "outputs": [
    {
     "name": "stdout",
     "output_type": "stream",
     "text": [
      "name     [python, c++, c, java]\n",
      "marks      [35, 23, 39, 26, 31]\n",
      "rank               [8, 6, 5, 3]\n",
      "dtype: object\n"
     ]
    }
   ],
   "source": [
    "#create a pandas series with dictionary\n",
    "dict={'name':['python','c++','c','java'],'marks':[35,23,39,26,31],'rank':[8,6,5,3]}\n",
    "A=pd.Series(dict)\n",
    "print(A)"
   ]
  },
  {
   "cell_type": "code",
   "execution_count": 47,
   "metadata": {},
   "outputs": [
    {
     "name": "stdout",
     "output_type": "stream",
     "text": [
      "0    2\n",
      "1    3\n",
      "2    5\n",
      "3    8\n",
      "4    d\n",
      "dtype: object\n"
     ]
    }
   ],
   "source": [
    "#create a pandas series from tuple\n",
    "tuple=(2,3,5,8,'d')\n",
    "A=pd.Series(tuple)\n",
    "print(A)"
   ]
  },
  {
   "cell_type": "code",
   "execution_count": 48,
   "metadata": {},
   "outputs": [
    {
     "name": "stdout",
     "output_type": "stream",
     "text": [
      "0    a\n",
      "1    a\n",
      "2    a\n",
      "3    a\n",
      "4    a\n",
      "5    a\n",
      "6    a\n",
      "dtype: object\n"
     ]
    }
   ],
   "source": [
    "#create a pandas series with repeated data\n",
    "import pandas as pd\n",
    "A=pd.Series('a',index=[0,1,2,3,4,5,6])\n",
    "print(A)"
   ]
  },
  {
   "cell_type": "code",
   "execution_count": 49,
   "metadata": {},
   "outputs": [
    {
     "name": "stdout",
     "output_type": "stream",
     "text": [
      "1    24.0\n",
      "2    24.0\n",
      "3    24.0\n",
      "4    24.0\n",
      "5    24.0\n",
      "6     NaN\n",
      "7     NaN\n",
      "8     NaN\n",
      "dtype: float64\n"
     ]
    }
   ],
   "source": [
    "#create a pandas series with sum of two pandas series\n",
    "S1=pd.Series(12,index=[1,2,3,4,5,6,7,8])\n",
    "S2=pd.Series(12,index=[1,2,3,4,5])\n",
    "print(S1+S2)"
   ]
  },
  {
   "cell_type": "code",
   "execution_count": null,
   "metadata": {},
   "outputs": [],
   "source": []
  }
 ],
 "metadata": {
  "kernelspec": {
   "display_name": "Python 3",
   "language": "python",
   "name": "python3"
  },
  "language_info": {
   "codemirror_mode": {
    "name": "ipython",
    "version": 3
   },
   "file_extension": ".py",
   "mimetype": "text/x-python",
   "name": "python",
   "nbconvert_exporter": "python",
   "pygments_lexer": "ipython3",
   "version": "3.12.2"
  }
 },
 "nbformat": 4,
 "nbformat_minor": 2
}
