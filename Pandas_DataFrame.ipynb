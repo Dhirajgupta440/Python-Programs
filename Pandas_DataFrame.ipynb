{
 "cells": [
  {
   "cell_type": "code",
   "execution_count": 53,
   "metadata": {},
   "outputs": [
    {
     "name": "stdout",
     "output_type": "stream",
     "text": [
      "   0\n",
      "0  1\n",
      "1  2\n",
      "2  3\n",
      "3  4\n",
      "4  5\n",
      "5  6\n",
      "6  7\n",
      "7  8\n",
      "8  9\n",
      "<class 'pandas.core.frame.DataFrame'>\n"
     ]
    }
   ],
   "source": [
    "#DataFrame \n",
    "import pandas as pd\n",
    "list=[1,2,3,4,5,6,7,8,9]\n",
    "A=pd.DataFrame(list)\n",
    "print(A)\n",
    "print(type(A))"
   ]
  },
  {
   "cell_type": "code",
   "execution_count": 54,
   "metadata": {},
   "outputs": [
    {
     "name": "stdout",
     "output_type": "stream",
     "text": [
      "Show the DataFrame:\n",
      "    a  b\n",
      "0  1  9\n",
      "1  2  8\n",
      "2  3  7\n",
      "3  4  6\n",
      "4  5  5\n",
      "5  6  4\n",
      "6  7  3\n",
      "\n",
      "Show  a specific column:\n",
      "    b\n",
      "0  9\n",
      "1  8\n",
      "2  7\n",
      "3  6\n",
      "4  5\n",
      "5  4\n",
      "6  3\n"
     ]
    }
   ],
   "source": [
    "#Create a DataFrame from dictionary \n",
    "dict={'a':[1,2,3,4,5,6,7],'b':[9,8,7,6,5,4,3]}\n",
    "A=pd.DataFrame(dict)\n",
    "print(\"Show the DataFrame:\\n\",A)\n",
    "B=pd.DataFrame(dict,columns=['b'])\n",
    "print(\"\\nShow  a specific column:\\n\",B)"
   ]
  },
  {
   "cell_type": "code",
   "execution_count": 55,
   "metadata": {},
   "outputs": [
    {
     "name": "stdout",
     "output_type": "stream",
     "text": [
      "Show the DataFrame:\n",
      "    a  b   1     e\n",
      "0  1  9  56  8569\n",
      "1  2  8  23  5564\n",
      "2  3  7  21  8599\n",
      "3  4  6  24  8214\n",
      "4  5  5  58  9756\n",
      "5  6  4  97  2051\n",
      "6  7  3  51  3321\n",
      "\n",
      "Show  a specific columns:\n",
      "       e  b   1\n",
      "0  8569  9  56\n",
      "1  5564  8  23\n",
      "2  8599  7  21\n",
      "3  8214  6  24\n",
      "4  9756  5  58\n",
      "5  2051  4  97\n",
      "6  3321  3  51\n"
     ]
    }
   ],
   "source": [
    "#Create a DataFrame from dictionary\n",
    "dict={'a':[1,2,3,4,5,6,7],'b':[9,8,7,6,5,4,3],1:[56,23,21,24,58,97,51],'e':[8569,5564,8599,8214,9756,2051,3321]}\n",
    "A=pd.DataFrame(dict)\n",
    "print(\"Show the DataFrame:\\n\",A)\n",
    "B=pd.DataFrame(dict,columns=['e','b',1])\n",
    "print(\"\\nShow  a specific columns:\\n\",B)"
   ]
  },
  {
   "cell_type": "code",
   "execution_count": 56,
   "metadata": {},
   "outputs": [
    {
     "name": "stdout",
     "output_type": "stream",
     "text": [
      "Show the DataFrame:\n",
      "    a  b   1     e\n",
      "0  1  9  56  8569\n",
      "1  2  8  23  5564\n",
      "2  3  7  21  8599\n",
      "3  4  6  24  8214\n",
      "4  5  5  58  9756\n",
      "5  6  4  97  2051\n",
      "6  7  3  51  3321\n",
      "\n",
      "Show  the data of eth column and 6th row:\n",
      " 3321\n"
     ]
    }
   ],
   "source": [
    "#Create a DataFrame from dictionary and get a data\n",
    "dict={'a':[1,2,3,4,5,6,7],'b':[9,8,7,6,5,4,3],1:[56,23,21,24,58,97,51],'e':[8569,5564,8599,8214,9756,2051,3321]}\n",
    "A=pd.DataFrame(dict)\n",
    "print(\"Show the DataFrame:\\n\",A)\n",
    "B=(dict['e'][6])\n",
    "print(\"\\nShow  the data of eth column and 6th row:\\n\",B)"
   ]
  },
  {
   "cell_type": "code",
   "execution_count": 57,
   "metadata": {},
   "outputs": [
    {
     "name": "stdout",
     "output_type": "stream",
     "text": [
      "    0   1   2   3   4   5   6\n",
      "0   1   3   5   6   7   9   5\n",
      "1  56  23  54  72  15  24  98\n"
     ]
    }
   ],
   "source": [
    "#Create a DataFrame from list\n",
    "list=[[1,3,5,6,7,9,5],[56,23,54,72,15,24,98]]\n",
    "A=pd.DataFrame(list)\n",
    "print(A)"
   ]
  },
  {
   "cell_type": "code",
   "execution_count": 58,
   "metadata": {},
   "outputs": [
    {
     "name": "stdout",
     "output_type": "stream",
     "text": [
      "   s  r\n",
      "0  5  1\n",
      "1  6  2\n",
      "2  7  3\n",
      "3  8  4\n",
      "4  9  5\n"
     ]
    }
   ],
   "source": [
    "#Create a DataFrame from two pandas series\n",
    "import pandas as pd\n",
    "sr={'s':pd.Series([5,6,7,8,9]),'r':pd.Series([1,2,3,4,5])}\n",
    "A=pd.DataFrame(sr)\n",
    "print(A)"
   ]
  }
 ],
 "metadata": {
  "kernelspec": {
   "display_name": "Python 3",
   "language": "python",
   "name": "python3"
  },
  "language_info": {
   "codemirror_mode": {
    "name": "ipython",
    "version": 3
   },
   "file_extension": ".py",
   "mimetype": "text/x-python",
   "name": "python",
   "nbconvert_exporter": "python",
   "pygments_lexer": "ipython3",
   "version": "3.12.2"
  }
 },
 "nbformat": 4,
 "nbformat_minor": 2
}
