{
 "cells": [
  {
   "cell_type": "code",
   "execution_count": 165,
   "metadata": {},
   "outputs": [
    {
     "name": "stdout",
     "output_type": "stream",
     "text": [
      "[1 2 3 4 5 6]\n"
     ]
    }
   ],
   "source": [
    "#creating numpy array from python list\n",
    "import numpy as np\n",
    "list=[1,2,3,4,5,6]\n",
    "numPy_array=np.array(list)\n",
    "print(numPy_array)"
   ]
  },
  {
   "cell_type": "code",
   "execution_count": 166,
   "metadata": {},
   "outputs": [
    {
     "name": "stdout",
     "output_type": "stream",
     "text": [
      "[1 2 3 4 5 6]\n"
     ]
    }
   ],
   "source": [
    "#creating numpy array from python tuple\n",
    "import numpy as np\n",
    "tuple=(1,2,3,4,5,6)\n",
    "numPy_array=np.array(tuple)\n",
    "print(numPy_array)"
   ]
  },
  {
   "cell_type": "code",
   "execution_count": 167,
   "metadata": {},
   "outputs": [
    {
     "name": "stdout",
     "output_type": "stream",
     "text": [
      "[[1 3 5 9]\n",
      " [2 4 6 8]]\n"
     ]
    }
   ],
   "source": [
    "#creating numpy array from nested python list\n",
    "import numpy as np\n",
    "nested_list=[[1,3,5,9],[2,4,6,8]]\n",
    "numpy_array=np.array(nested_list)\n",
    "print(numpy_array)"
   ]
  },
  {
   "cell_type": "code",
   "execution_count": 168,
   "metadata": {},
   "outputs": [
    {
     "name": "stdout",
     "output_type": "stream",
     "text": [
      "[ 0  5 10 15]\n"
     ]
    }
   ],
   "source": [
    "#creating a numpy array usingnp.arange\n",
    "import numpy as np\n",
    "numpy_array=np.arange(0,20,5)\n",
    "print(numpy_array)"
   ]
  },
  {
   "cell_type": "code",
   "execution_count": 169,
   "metadata": {},
   "outputs": [
    {
     "name": "stdout",
     "output_type": "stream",
     "text": [
      "[[0. 0. 0. 0. 0.]\n",
      " [0. 0. 0. 0. 0.]\n",
      " [0. 0. 0. 0. 0.]]\n"
     ]
    }
   ],
   "source": [
    "#creating numpy array from zeros\n",
    "import numpy as np\n",
    "numpy_array=np.zeros((3,5))\n",
    "print(numpy_array)"
   ]
  },
  {
   "cell_type": "code",
   "execution_count": 170,
   "metadata": {},
   "outputs": [
    {
     "name": "stdout",
     "output_type": "stream",
     "text": [
      "[1. 1. 1. 1. 1.]\n"
     ]
    }
   ],
   "source": [
    "#creating numpy array from ones\n",
    "import numpy as np\n",
    "numpy_array=np.ones(5)\n",
    "print(numpy_array)"
   ]
  },
  {
   "cell_type": "code",
   "execution_count": 171,
   "metadata": {},
   "outputs": [
    {
     "name": "stdout",
     "output_type": "stream",
     "text": [
      "[1. 1. 1. 1. 1.]\n"
     ]
    }
   ],
   "source": [
    "#create an empty array\n",
    "import numpy as np\n",
    "numpy_array=np.empty(5)\n",
    "print(numpy_array)"
   ]
  },
  {
   "cell_type": "code",
   "execution_count": 172,
   "metadata": {},
   "outputs": [
    {
     "name": "stdout",
     "output_type": "stream",
     "text": [
      "[[1. 0. 0. 0. 0.]\n",
      " [0. 1. 0. 0. 0.]\n",
      " [0. 0. 1. 0. 0.]]\n"
     ]
    }
   ],
   "source": [
    "#creating numpy array with diagonals element 1\n",
    "import numpy as np\n",
    "numpy_array=np.eye(3,5)\n",
    "print(numpy_array)"
   ]
  },
  {
   "cell_type": "code",
   "execution_count": 173,
   "metadata": {},
   "outputs": [
    {
     "name": "stdout",
     "output_type": "stream",
     "text": [
      "[[0. 0. 0. 0. 0.]\n",
      " [0. 0. 0. 0. 0.]\n",
      " [0. 0. 0. 0. 0.]]\n"
     ]
    }
   ],
   "source": [
    "#creating numpy array from zeros\n",
    "import numpy as np\n",
    "numpy_array=np.zeros((3,5))\n",
    "print(numpy_array)"
   ]
  },
  {
   "cell_type": "code",
   "execution_count": 174,
   "metadata": {},
   "outputs": [
    {
     "name": "stdout",
     "output_type": "stream",
     "text": [
      "[ 1.    5.75 10.5  15.25 20.  ]\n"
     ]
    }
   ],
   "source": [
    "#creating numpy array with linspace\n",
    "import numpy as np\n",
    "numpy_array=np.linspace(1,20,5)\n",
    "print(numpy_array)"
   ]
  },
  {
   "cell_type": "code",
   "execution_count": 175,
   "metadata": {},
   "outputs": [
    {
     "name": "stdout",
     "output_type": "stream",
     "text": [
      "[0.36449997 0.31003922 0.96139465 0.19919844 0.77515582]\n"
     ]
    }
   ],
   "source": [
    "#creating numpy array from random function,rand()[used to generate random value between 0 to 1]\n",
    "import numpy as np\n",
    "numpy_array=np.random.rand(5)\n",
    "print(numpy_array)"
   ]
  },
  {
   "cell_type": "code",
   "execution_count": 176,
   "metadata": {},
   "outputs": [
    {
     "name": "stdout",
     "output_type": "stream",
     "text": [
      "[-1.5251803  -0.16336144 -0.943708    0.30183086 -1.80067534]\n"
     ]
    }
   ],
   "source": [
    "#creating numpy array from random function,randn()[used to generate random value closed to 0 may be +ve or -ve]\n",
    "import numpy as np\n",
    "numpy_array=np.random.randn(5)\n",
    "print(numpy_array)"
   ]
  },
  {
   "cell_type": "code",
   "execution_count": 177,
   "metadata": {},
   "outputs": [
    {
     "name": "stdout",
     "output_type": "stream",
     "text": [
      "[0.5893246  0.04180185 0.86564118 0.33017709 0.27573028]\n"
     ]
    }
   ],
   "source": [
    "#creating numpy array from random function,ranf()[used to generate random floats value between [0 to 1)]\n",
    "import numpy as np\n",
    "numpy_array=np.random.ranf(5)\n",
    "print(numpy_array)"
   ]
  },
  {
   "cell_type": "code",
   "execution_count": 178,
   "metadata": {},
   "outputs": [
    {
     "name": "stdout",
     "output_type": "stream",
     "text": [
      "[16 17 13 17 19]\n"
     ]
    }
   ],
   "source": [
    "#creating numpy array from random function,randint()[used to generate random number between a given value ]\n",
    "import numpy as np\n",
    "numpy_array=np.random.randint(1,20,5)\n",
    "print(numpy_array)"
   ]
  }
 ],
 "metadata": {
  "kernelspec": {
   "display_name": "Python 3",
   "language": "python",
   "name": "python3"
  },
  "language_info": {
   "codemirror_mode": {
    "name": "ipython",
    "version": 3
   },
   "file_extension": ".py",
   "mimetype": "text/x-python",
   "name": "python",
   "nbconvert_exporter": "python",
   "pygments_lexer": "ipython3",
   "version": "3.12.2"
  }
 },
 "nbformat": 4,
 "nbformat_minor": 2
}
