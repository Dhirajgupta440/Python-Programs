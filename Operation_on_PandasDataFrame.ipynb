{
 "cells": [
  {
   "cell_type": "code",
   "execution_count": 152,
   "metadata": {},
   "outputs": [
    {
     "name": "stdout",
     "output_type": "stream",
     "text": [
      "   A  B\n",
      "0  1  9\n",
      "1  2  8\n",
      "2  3  7\n",
      "3  4  6\n",
      "   A  B   C\n",
      "0  1  9  10\n",
      "1  2  8  10\n",
      "2  3  7  10\n",
      "3  4  6  10\n"
     ]
    }
   ],
   "source": [
    "#Addition\n",
    "import pandas as pd\n",
    "var=pd.DataFrame({'A':[1,2,3,4],'B':[9,8,7,6]})\n",
    "print(var)\n",
    "var[\"C\"]=var['A']+var['B']\n",
    "print(var)"
   ]
  },
  {
   "cell_type": "code",
   "execution_count": 153,
   "metadata": {},
   "outputs": [
    {
     "name": "stdout",
     "output_type": "stream",
     "text": [
      "   A  B  C\n",
      "0  1  9 -8\n",
      "1  2  8 -6\n",
      "2  3  7 -4\n",
      "3  4  6 -2\n"
     ]
    }
   ],
   "source": [
    "#Subtraction\n",
    "var['C']=var['A']-var[\"B\"]\n",
    "print(var)"
   ]
  },
  {
   "cell_type": "code",
   "execution_count": 154,
   "metadata": {},
   "outputs": [
    {
     "name": "stdout",
     "output_type": "stream",
     "text": [
      "   A  B   C\n",
      "0  1  9   9\n",
      "1  2  8  16\n",
      "2  3  7  21\n",
      "3  4  6  24\n"
     ]
    }
   ],
   "source": [
    "#Multiplication\n",
    "var[\"C\"]=var['A']*var['B']\n",
    "print(var)"
   ]
  },
  {
   "cell_type": "code",
   "execution_count": 155,
   "metadata": {},
   "outputs": [
    {
     "name": "stdout",
     "output_type": "stream",
     "text": [
      "   A  B         C\n",
      "0  1  9  0.111111\n",
      "1  2  8  0.250000\n",
      "2  3  7  0.428571\n",
      "3  4  6  0.666667\n"
     ]
    }
   ],
   "source": [
    "#Division\n",
    "var['C']=var['A']/var['B']\n",
    "print(var)"
   ]
  },
  {
   "cell_type": "code",
   "execution_count": 156,
   "metadata": {},
   "outputs": [
    {
     "name": "stdout",
     "output_type": "stream",
     "text": [
      "   A  B      C      D\n",
      "0  1  9  False  False\n",
      "1  2  8   True  False\n",
      "2  3  7   True  False\n",
      "3  4  6   True   True\n"
     ]
    }
   ],
   "source": [
    "#Check data>=2 for column A and data<=6 for column B\n",
    "var['C']=var['A']>=2\n",
    "var['D']=var['B']<=6\n",
    "print(var)\n"
   ]
  },
  {
   "cell_type": "code",
   "execution_count": 157,
   "metadata": {},
   "outputs": [
    {
     "name": "stdout",
     "output_type": "stream",
     "text": [
      "   A  B\n",
      "0  1  9\n",
      "1  2  8\n",
      "2  3  7\n",
      "3  4  6\n",
      "4  5  5\n"
     ]
    }
   ],
   "source": [
    "#Insert data to pandas DataFrame\n",
    "import pandas as pd\n",
    "var=pd.DataFrame({\"A\":[1,2,3,4,5],\"B\":[9,8,7,6,5]})\n",
    "print(var)"
   ]
  },
  {
   "cell_type": "code",
   "execution_count": 158,
   "metadata": {},
   "outputs": [
    {
     "name": "stdout",
     "output_type": "stream",
     "text": [
      "   A  PYTHON  B\n",
      "0  1       1  9\n",
      "1  2       2  8\n",
      "2  3       3  7\n",
      "3  4       4  6\n",
      "4  5       5  5\n"
     ]
    }
   ],
   "source": [
    "var.insert(1,\"PYTHON\",var[\"A\"])\n",
    "print(var)"
   ]
  },
  {
   "cell_type": "code",
   "execution_count": 159,
   "metadata": {},
   "outputs": [
    {
     "name": "stdout",
     "output_type": "stream",
     "text": [
      "   A  PYTHON_1  PYTHON  B\n",
      "0  1        11       1  9\n",
      "1  2        12       2  8\n",
      "2  3        13       3  7\n",
      "3  4        14       4  6\n",
      "4  5        15       5  5\n"
     ]
    }
   ],
   "source": [
    "var.insert(1,\"PYTHON_1\",[11,12,13,14,15])\n",
    "print(var)"
   ]
  },
  {
   "cell_type": "code",
   "execution_count": 160,
   "metadata": {},
   "outputs": [
    {
     "name": "stdout",
     "output_type": "stream",
     "text": [
      "   A  PYTHON_1  PYTHON  B  python_12\n",
      "0  1        11       1  9        1.0\n",
      "1  2        12       2  8        2.0\n",
      "2  3        13       3  7        3.0\n",
      "3  4        14       4  6        NaN\n",
      "4  5        15       5  5        NaN\n"
     ]
    }
   ],
   "source": [
    "var['python_12']=var['A'][:3]\n",
    "print(var)"
   ]
  },
  {
   "cell_type": "code",
   "execution_count": 161,
   "metadata": {},
   "outputs": [
    {
     "name": "stdout",
     "output_type": "stream",
     "text": [
      "   A  B   C\n",
      "0  1  9  11\n",
      "1  2  8  12\n",
      "2  3  7  13\n",
      "3  4  6  14\n",
      "4  5  5  15\n"
     ]
    }
   ],
   "source": [
    "#Delete data from pandas DataFrame\n",
    "import pandas as pd\n",
    "var=pd.DataFrame({\"A\":[1,2,3,4,5],\"B\":[9,8,7,6,5],\"C\":[11,12,13,14,15]})\n",
    "print(var)"
   ]
  },
  {
   "cell_type": "code",
   "execution_count": 162,
   "metadata": {},
   "outputs": [
    {
     "name": "stdout",
     "output_type": "stream",
     "text": [
      "0    9\n",
      "1    8\n",
      "2    7\n",
      "3    6\n",
      "4    5\n",
      "Name: B, dtype: int64\n"
     ]
    }
   ],
   "source": [
    "#Delete using pop\n",
    "var1=var.pop(\"B\")\n",
    "print(var1)"
   ]
  },
  {
   "cell_type": "code",
   "execution_count": 163,
   "metadata": {},
   "outputs": [
    {
     "name": "stdout",
     "output_type": "stream",
     "text": [
      "   A   C\n",
      "0  1  11\n",
      "1  2  12\n",
      "2  3  13\n",
      "3  4  14\n",
      "4  5  15\n"
     ]
    }
   ],
   "source": [
    "print(var)"
   ]
  },
  {
   "cell_type": "code",
   "execution_count": 164,
   "metadata": {},
   "outputs": [
    {
     "name": "stdout",
     "output_type": "stream",
     "text": [
      "    C\n",
      "0  11\n",
      "1  12\n",
      "2  13\n",
      "3  14\n",
      "4  15\n"
     ]
    }
   ],
   "source": [
    "#delete using del keyword\n",
    "del var[\"A\"]\n",
    "print(var)"
   ]
  },
  {
   "cell_type": "code",
   "execution_count": null,
   "metadata": {},
   "outputs": [],
   "source": []
  }
 ],
 "metadata": {
  "kernelspec": {
   "display_name": "Python 3",
   "language": "python",
   "name": "python3"
  },
  "language_info": {
   "codemirror_mode": {
    "name": "ipython",
    "version": 3
   },
   "file_extension": ".py",
   "mimetype": "text/x-python",
   "name": "python",
   "nbconvert_exporter": "python",
   "pygments_lexer": "ipython3",
   "version": "3.12.2"
  }
 },
 "nbformat": 4,
 "nbformat_minor": 2
}
